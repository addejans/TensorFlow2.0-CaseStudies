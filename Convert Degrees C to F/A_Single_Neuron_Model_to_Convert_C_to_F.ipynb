{
  "nbformat": 4,
  "nbformat_minor": 0,
  "metadata": {
    "colab": {
      "name": "1. A Single Neuron Model to Convert C to F.ipynb",
      "provenance": [],
      "collapsed_sections": []
    },
    "kernelspec": {
      "name": "python3",
      "display_name": "Python 3"
    },
    "accelerator": "GPU"
  },
  "cells": [
    {
      "cell_type": "markdown",
      "metadata": {
        "id": "M27qF7CTrBqc",
        "colab_type": "text"
      },
      "source": [
        "# PROBLEM STATEMENT"
      ]
    },
    {
      "cell_type": "markdown",
      "metadata": {
        "id": "iCj2rwwHBB1I",
        "colab_type": "text"
      },
      "source": [
        "\n",
        "- In this project, I will build a simple machine learning model to convert from celsius to fahrenheit. \n",
        "- The equation is as follows: **T(°F) = T(°C) × 9/5 + 32**\n",
        "- For example, let's convert 0°C celsius temperature to Fahrenheit:  **(0°C × 9/5) + 32 = 32°F**\n",
        "\n",
        "\n",
        "*Note: the purpose of this project is to familiarize with TensorFlow 2.0. This is intended to be the simplest model possible; one neuron (i.e. one weight and one bias).*\n"
      ]
    },
    {
      "cell_type": "markdown",
      "metadata": {
        "id": "Z2ZMlH-gtOxf",
        "colab_type": "text"
      },
      "source": [
        "\n",
        "<table>\n",
        "  <tr><td>\n",
        "    <img src=\"https://upload.wikimedia.org/wikipedia/commons/7/70/Thermometer_CF.svg\"\n",
        "         alt=\"Fashion MNIST sprite\"  width=\"600\">\n",
        "  </td></tr>\n",
        "  <tr><td align=\"center\">\n",
        "    <b>Figure 1. Convert Celsius to Fahrenheit [Image Source: https://commons.wikimedia.org/wiki/File:Thermometer_CF.svg]\n",
        "  </td></tr>\n",
        "</table>\n"
      ]
    },
    {
      "cell_type": "markdown",
      "metadata": {
        "id": "zKmFmyaGunc7",
        "colab_type": "text"
      },
      "source": [
        "# IMPORT LIBRARIES"
      ]
    },
    {
      "cell_type": "code",
      "metadata": {
        "id": "S0Cx3743urFY",
        "colab_type": "code",
        "outputId": "ee945a2f-45b9-4f15-8692-a043d8516ddf",
        "colab": {
          "base_uri": "https://localhost:8080/",
          "height": 533
        }
      },
      "source": [
        "!pip install tensorflow-gpu==2.0.0.alpha0\n",
        "import tensorflow as tf\n",
        "import pandas as pd\n",
        "import numpy as np\n",
        "import seaborn as sns\n",
        "import matplotlib.pyplot as plt"
      ],
      "execution_count": 0,
      "outputs": [
        {
          "output_type": "stream",
          "text": [
            "Collecting tensorflow-gpu==2.0.0.alpha0\n",
            "\u001b[?25l  Downloading https://files.pythonhosted.org/packages/1a/66/32cffad095253219d53f6b6c2a436637bbe45ac4e7be0244557210dc3918/tensorflow_gpu-2.0.0a0-cp36-cp36m-manylinux1_x86_64.whl (332.1MB)\n",
            "\u001b[K     |████████████████████████████████| 332.1MB 94kB/s \n",
            "\u001b[?25hRequirement already satisfied: termcolor>=1.1.0 in /usr/local/lib/python3.6/dist-packages (from tensorflow-gpu==2.0.0.alpha0) (1.1.0)\n",
            "Requirement already satisfied: astor>=0.6.0 in /usr/local/lib/python3.6/dist-packages (from tensorflow-gpu==2.0.0.alpha0) (0.8.0)\n",
            "Requirement already satisfied: google-pasta>=0.1.2 in /usr/local/lib/python3.6/dist-packages (from tensorflow-gpu==2.0.0.alpha0) (0.1.7)\n",
            "Requirement already satisfied: wheel>=0.26 in /usr/local/lib/python3.6/dist-packages (from tensorflow-gpu==2.0.0.alpha0) (0.33.6)\n",
            "Requirement already satisfied: absl-py>=0.7.0 in /usr/local/lib/python3.6/dist-packages (from tensorflow-gpu==2.0.0.alpha0) (0.8.0)\n",
            "Requirement already satisfied: six>=1.10.0 in /usr/local/lib/python3.6/dist-packages (from tensorflow-gpu==2.0.0.alpha0) (1.12.0)\n",
            "Collecting tf-estimator-nightly<1.14.0.dev2019030116,>=1.14.0.dev2019030115 (from tensorflow-gpu==2.0.0.alpha0)\n",
            "\u001b[?25l  Downloading https://files.pythonhosted.org/packages/13/82/f16063b4eed210dc2ab057930ac1da4fbe1e91b7b051a6c8370b401e6ae7/tf_estimator_nightly-1.14.0.dev2019030115-py2.py3-none-any.whl (411kB)\n",
            "\u001b[K     |████████████████████████████████| 419kB 39.7MB/s \n",
            "\u001b[?25hRequirement already satisfied: grpcio>=1.8.6 in /usr/local/lib/python3.6/dist-packages (from tensorflow-gpu==2.0.0.alpha0) (1.15.0)\n",
            "Requirement already satisfied: keras-applications>=1.0.6 in /usr/local/lib/python3.6/dist-packages (from tensorflow-gpu==2.0.0.alpha0) (1.0.8)\n",
            "Requirement already satisfied: numpy<2.0,>=1.14.5 in /usr/local/lib/python3.6/dist-packages (from tensorflow-gpu==2.0.0.alpha0) (1.16.5)\n",
            "Requirement already satisfied: gast>=0.2.0 in /usr/local/lib/python3.6/dist-packages (from tensorflow-gpu==2.0.0.alpha0) (0.2.2)\n",
            "Requirement already satisfied: protobuf>=3.6.1 in /usr/local/lib/python3.6/dist-packages (from tensorflow-gpu==2.0.0.alpha0) (3.7.1)\n",
            "Requirement already satisfied: keras-preprocessing>=1.0.5 in /usr/local/lib/python3.6/dist-packages (from tensorflow-gpu==2.0.0.alpha0) (1.1.0)\n",
            "Collecting tb-nightly<1.14.0a20190302,>=1.14.0a20190301 (from tensorflow-gpu==2.0.0.alpha0)\n",
            "\u001b[?25l  Downloading https://files.pythonhosted.org/packages/a9/51/aa1d756644bf4624c03844115e4ac4058eff77acd786b26315f051a4b195/tb_nightly-1.14.0a20190301-py3-none-any.whl (3.0MB)\n",
            "\u001b[K     |████████████████████████████████| 3.0MB 31.0MB/s \n",
            "\u001b[?25hRequirement already satisfied: h5py in /usr/local/lib/python3.6/dist-packages (from keras-applications>=1.0.6->tensorflow-gpu==2.0.0.alpha0) (2.8.0)\n",
            "Requirement already satisfied: setuptools in /usr/local/lib/python3.6/dist-packages (from protobuf>=3.6.1->tensorflow-gpu==2.0.0.alpha0) (41.2.0)\n",
            "Requirement already satisfied: werkzeug>=0.11.15 in /usr/local/lib/python3.6/dist-packages (from tb-nightly<1.14.0a20190302,>=1.14.0a20190301->tensorflow-gpu==2.0.0.alpha0) (0.16.0)\n",
            "Requirement already satisfied: markdown>=2.6.8 in /usr/local/lib/python3.6/dist-packages (from tb-nightly<1.14.0a20190302,>=1.14.0a20190301->tensorflow-gpu==2.0.0.alpha0) (3.1.1)\n",
            "Installing collected packages: tf-estimator-nightly, tb-nightly, tensorflow-gpu\n",
            "Successfully installed tb-nightly-1.14.0a20190301 tensorflow-gpu-2.0.0a0 tf-estimator-nightly-1.14.0.dev2019030115\n"
          ],
          "name": "stdout"
        }
      ]
    },
    {
      "cell_type": "markdown",
      "metadata": {
        "id": "uAE6Icc0uylP",
        "colab_type": "text"
      },
      "source": [
        "# IMPORT DATASETS"
      ]
    },
    {
      "cell_type": "code",
      "metadata": {
        "id": "5P_ciLXawMZg",
        "colab_type": "code",
        "outputId": "28da61d5-6552-466c-c4d9-66bc59420dbb",
        "colab": {
          "base_uri": "https://localhost:8080/",
          "height": 129
        }
      },
      "source": [
        "# You will need to mount your drive using the following commands:\n",
        "# For more information regarding mounting, please check this out: https://stackoverflow.com/questions/46986398/import-data-into-google-colaboratory\n",
        "\n",
        "from google.colab import drive\n",
        "drive.mount('/content/drive')"
      ],
      "execution_count": 0,
      "outputs": [
        {
          "output_type": "stream",
          "text": [
            "Go to this URL in a browser: https://accounts.google.com/o/oauth2/auth?client_id=947318989803-6bn6qk8qdgf4n4g3pfee6491hc0brc4i.apps.googleusercontent.com&redirect_uri=urn%3Aietf%3Awg%3Aoauth%3A2.0%3Aoob&scope=email%20https%3A%2F%2Fwww.googleapis.com%2Fauth%2Fdocs.test%20https%3A%2F%2Fwww.googleapis.com%2Fauth%2Fdrive%20https%3A%2F%2Fwww.googleapis.com%2Fauth%2Fdrive.photos.readonly%20https%3A%2F%2Fwww.googleapis.com%2Fauth%2Fpeopleapi.readonly&response_type=code\n",
            "\n",
            "Enter your authorization code:\n",
            "··········\n",
            "Mounted at /content/drive\n"
          ],
          "name": "stdout"
        }
      ]
    },
    {
      "cell_type": "code",
      "metadata": {
        "id": "tjIiJdM4u1IE",
        "colab_type": "code",
        "colab": {}
      },
      "source": [
        "# You have to include the full link to the csv file containing your dataset\n",
        "Temperature_df = pd.read_csv('/content/drive/My Drive/Colab Notebooks/Celsius-to-Fahrenheit.csv')\n",
        "Temperature_df.reset_index(drop=True, inplace=True)\n",
        "\n"
      ],
      "execution_count": 0,
      "outputs": []
    },
    {
      "cell_type": "code",
      "metadata": {
        "id": "q4_wPDKCu5Uc",
        "colab_type": "code",
        "outputId": "b6d7c564-48bb-4cec-c3c4-9bc25be6edb6",
        "colab": {
          "base_uri": "https://localhost:8080/",
          "height": 990
        }
      },
      "source": [
        "Temperature_df"
      ],
      "execution_count": 0,
      "outputs": [
        {
          "output_type": "execute_result",
          "data": {
            "text/html": [
              "<div>\n",
              "<style scoped>\n",
              "    .dataframe tbody tr th:only-of-type {\n",
              "        vertical-align: middle;\n",
              "    }\n",
              "\n",
              "    .dataframe tbody tr th {\n",
              "        vertical-align: top;\n",
              "    }\n",
              "\n",
              "    .dataframe thead th {\n",
              "        text-align: right;\n",
              "    }\n",
              "</style>\n",
              "<table border=\"1\" class=\"dataframe\">\n",
              "  <thead>\n",
              "    <tr style=\"text-align: right;\">\n",
              "      <th></th>\n",
              "      <th>Celsius</th>\n",
              "      <th>Fahrenheit</th>\n",
              "    </tr>\n",
              "  </thead>\n",
              "  <tbody>\n",
              "    <tr>\n",
              "      <th>0</th>\n",
              "      <td>-50</td>\n",
              "      <td>-58.0</td>\n",
              "    </tr>\n",
              "    <tr>\n",
              "      <th>1</th>\n",
              "      <td>-40</td>\n",
              "      <td>-40.0</td>\n",
              "    </tr>\n",
              "    <tr>\n",
              "      <th>2</th>\n",
              "      <td>-30</td>\n",
              "      <td>-22.0</td>\n",
              "    </tr>\n",
              "    <tr>\n",
              "      <th>3</th>\n",
              "      <td>-20</td>\n",
              "      <td>-4.0</td>\n",
              "    </tr>\n",
              "    <tr>\n",
              "      <th>4</th>\n",
              "      <td>-10</td>\n",
              "      <td>14.0</td>\n",
              "    </tr>\n",
              "    <tr>\n",
              "      <th>5</th>\n",
              "      <td>-9</td>\n",
              "      <td>15.8</td>\n",
              "    </tr>\n",
              "    <tr>\n",
              "      <th>6</th>\n",
              "      <td>-8</td>\n",
              "      <td>17.6</td>\n",
              "    </tr>\n",
              "    <tr>\n",
              "      <th>7</th>\n",
              "      <td>-7</td>\n",
              "      <td>19.4</td>\n",
              "    </tr>\n",
              "    <tr>\n",
              "      <th>8</th>\n",
              "      <td>-6</td>\n",
              "      <td>21.2</td>\n",
              "    </tr>\n",
              "    <tr>\n",
              "      <th>9</th>\n",
              "      <td>-5</td>\n",
              "      <td>23.0</td>\n",
              "    </tr>\n",
              "    <tr>\n",
              "      <th>10</th>\n",
              "      <td>-4</td>\n",
              "      <td>24.8</td>\n",
              "    </tr>\n",
              "    <tr>\n",
              "      <th>11</th>\n",
              "      <td>-3</td>\n",
              "      <td>26.6</td>\n",
              "    </tr>\n",
              "    <tr>\n",
              "      <th>12</th>\n",
              "      <td>-2</td>\n",
              "      <td>28.4</td>\n",
              "    </tr>\n",
              "    <tr>\n",
              "      <th>13</th>\n",
              "      <td>-1</td>\n",
              "      <td>30.2</td>\n",
              "    </tr>\n",
              "    <tr>\n",
              "      <th>14</th>\n",
              "      <td>0</td>\n",
              "      <td>32.0</td>\n",
              "    </tr>\n",
              "    <tr>\n",
              "      <th>15</th>\n",
              "      <td>1</td>\n",
              "      <td>33.8</td>\n",
              "    </tr>\n",
              "    <tr>\n",
              "      <th>16</th>\n",
              "      <td>2</td>\n",
              "      <td>35.6</td>\n",
              "    </tr>\n",
              "    <tr>\n",
              "      <th>17</th>\n",
              "      <td>3</td>\n",
              "      <td>37.4</td>\n",
              "    </tr>\n",
              "    <tr>\n",
              "      <th>18</th>\n",
              "      <td>4</td>\n",
              "      <td>39.2</td>\n",
              "    </tr>\n",
              "    <tr>\n",
              "      <th>19</th>\n",
              "      <td>5</td>\n",
              "      <td>41.0</td>\n",
              "    </tr>\n",
              "    <tr>\n",
              "      <th>20</th>\n",
              "      <td>6</td>\n",
              "      <td>42.8</td>\n",
              "    </tr>\n",
              "    <tr>\n",
              "      <th>21</th>\n",
              "      <td>7</td>\n",
              "      <td>44.6</td>\n",
              "    </tr>\n",
              "    <tr>\n",
              "      <th>22</th>\n",
              "      <td>8</td>\n",
              "      <td>46.4</td>\n",
              "    </tr>\n",
              "    <tr>\n",
              "      <th>23</th>\n",
              "      <td>9</td>\n",
              "      <td>48.2</td>\n",
              "    </tr>\n",
              "    <tr>\n",
              "      <th>24</th>\n",
              "      <td>10</td>\n",
              "      <td>50.0</td>\n",
              "    </tr>\n",
              "    <tr>\n",
              "      <th>25</th>\n",
              "      <td>20</td>\n",
              "      <td>68.0</td>\n",
              "    </tr>\n",
              "    <tr>\n",
              "      <th>26</th>\n",
              "      <td>30</td>\n",
              "      <td>86.0</td>\n",
              "    </tr>\n",
              "    <tr>\n",
              "      <th>27</th>\n",
              "      <td>40</td>\n",
              "      <td>104.0</td>\n",
              "    </tr>\n",
              "    <tr>\n",
              "      <th>28</th>\n",
              "      <td>50</td>\n",
              "      <td>122.0</td>\n",
              "    </tr>\n",
              "    <tr>\n",
              "      <th>29</th>\n",
              "      <td>60</td>\n",
              "      <td>140.0</td>\n",
              "    </tr>\n",
              "  </tbody>\n",
              "</table>\n",
              "</div>"
            ],
            "text/plain": [
              "    Celsius  Fahrenheit\n",
              "0       -50       -58.0\n",
              "1       -40       -40.0\n",
              "2       -30       -22.0\n",
              "3       -20        -4.0\n",
              "4       -10        14.0\n",
              "5        -9        15.8\n",
              "6        -8        17.6\n",
              "7        -7        19.4\n",
              "8        -6        21.2\n",
              "9        -5        23.0\n",
              "10       -4        24.8\n",
              "11       -3        26.6\n",
              "12       -2        28.4\n",
              "13       -1        30.2\n",
              "14        0        32.0\n",
              "15        1        33.8\n",
              "16        2        35.6\n",
              "17        3        37.4\n",
              "18        4        39.2\n",
              "19        5        41.0\n",
              "20        6        42.8\n",
              "21        7        44.6\n",
              "22        8        46.4\n",
              "23        9        48.2\n",
              "24       10        50.0\n",
              "25       20        68.0\n",
              "26       30        86.0\n",
              "27       40       104.0\n",
              "28       50       122.0\n",
              "29       60       140.0"
            ]
          },
          "metadata": {
            "tags": []
          },
          "execution_count": 4
        }
      ]
    },
    {
      "cell_type": "code",
      "metadata": {
        "id": "E7puy9-xxS4A",
        "colab_type": "code",
        "outputId": "21cf911c-d4c6-4463-9341-3d1bd02b2cda",
        "colab": {
          "base_uri": "https://localhost:8080/",
          "height": 206
        }
      },
      "source": [
        "Temperature_df.head(5)"
      ],
      "execution_count": 0,
      "outputs": [
        {
          "output_type": "execute_result",
          "data": {
            "text/html": [
              "<div>\n",
              "<style scoped>\n",
              "    .dataframe tbody tr th:only-of-type {\n",
              "        vertical-align: middle;\n",
              "    }\n",
              "\n",
              "    .dataframe tbody tr th {\n",
              "        vertical-align: top;\n",
              "    }\n",
              "\n",
              "    .dataframe thead th {\n",
              "        text-align: right;\n",
              "    }\n",
              "</style>\n",
              "<table border=\"1\" class=\"dataframe\">\n",
              "  <thead>\n",
              "    <tr style=\"text-align: right;\">\n",
              "      <th></th>\n",
              "      <th>Celsius</th>\n",
              "      <th>Fahrenheit</th>\n",
              "    </tr>\n",
              "  </thead>\n",
              "  <tbody>\n",
              "    <tr>\n",
              "      <th>0</th>\n",
              "      <td>-50</td>\n",
              "      <td>-58.0</td>\n",
              "    </tr>\n",
              "    <tr>\n",
              "      <th>1</th>\n",
              "      <td>-40</td>\n",
              "      <td>-40.0</td>\n",
              "    </tr>\n",
              "    <tr>\n",
              "      <th>2</th>\n",
              "      <td>-30</td>\n",
              "      <td>-22.0</td>\n",
              "    </tr>\n",
              "    <tr>\n",
              "      <th>3</th>\n",
              "      <td>-20</td>\n",
              "      <td>-4.0</td>\n",
              "    </tr>\n",
              "    <tr>\n",
              "      <th>4</th>\n",
              "      <td>-10</td>\n",
              "      <td>14.0</td>\n",
              "    </tr>\n",
              "  </tbody>\n",
              "</table>\n",
              "</div>"
            ],
            "text/plain": [
              "   Celsius  Fahrenheit\n",
              "0      -50       -58.0\n",
              "1      -40       -40.0\n",
              "2      -30       -22.0\n",
              "3      -20        -4.0\n",
              "4      -10        14.0"
            ]
          },
          "metadata": {
            "tags": []
          },
          "execution_count": 5
        }
      ]
    },
    {
      "cell_type": "code",
      "metadata": {
        "id": "RUt2ON_UxyYk",
        "colab_type": "code",
        "outputId": "51e232d8-77f0-406e-c579-c39805a7e7c5",
        "colab": {
          "base_uri": "https://localhost:8080/",
          "height": 363
        }
      },
      "source": [
        "Temperature_df.tail(10)"
      ],
      "execution_count": 0,
      "outputs": [
        {
          "output_type": "execute_result",
          "data": {
            "text/html": [
              "<div>\n",
              "<style scoped>\n",
              "    .dataframe tbody tr th:only-of-type {\n",
              "        vertical-align: middle;\n",
              "    }\n",
              "\n",
              "    .dataframe tbody tr th {\n",
              "        vertical-align: top;\n",
              "    }\n",
              "\n",
              "    .dataframe thead th {\n",
              "        text-align: right;\n",
              "    }\n",
              "</style>\n",
              "<table border=\"1\" class=\"dataframe\">\n",
              "  <thead>\n",
              "    <tr style=\"text-align: right;\">\n",
              "      <th></th>\n",
              "      <th>Celsius</th>\n",
              "      <th>Fahrenheit</th>\n",
              "    </tr>\n",
              "  </thead>\n",
              "  <tbody>\n",
              "    <tr>\n",
              "      <th>20</th>\n",
              "      <td>6</td>\n",
              "      <td>42.8</td>\n",
              "    </tr>\n",
              "    <tr>\n",
              "      <th>21</th>\n",
              "      <td>7</td>\n",
              "      <td>44.6</td>\n",
              "    </tr>\n",
              "    <tr>\n",
              "      <th>22</th>\n",
              "      <td>8</td>\n",
              "      <td>46.4</td>\n",
              "    </tr>\n",
              "    <tr>\n",
              "      <th>23</th>\n",
              "      <td>9</td>\n",
              "      <td>48.2</td>\n",
              "    </tr>\n",
              "    <tr>\n",
              "      <th>24</th>\n",
              "      <td>10</td>\n",
              "      <td>50.0</td>\n",
              "    </tr>\n",
              "    <tr>\n",
              "      <th>25</th>\n",
              "      <td>20</td>\n",
              "      <td>68.0</td>\n",
              "    </tr>\n",
              "    <tr>\n",
              "      <th>26</th>\n",
              "      <td>30</td>\n",
              "      <td>86.0</td>\n",
              "    </tr>\n",
              "    <tr>\n",
              "      <th>27</th>\n",
              "      <td>40</td>\n",
              "      <td>104.0</td>\n",
              "    </tr>\n",
              "    <tr>\n",
              "      <th>28</th>\n",
              "      <td>50</td>\n",
              "      <td>122.0</td>\n",
              "    </tr>\n",
              "    <tr>\n",
              "      <th>29</th>\n",
              "      <td>60</td>\n",
              "      <td>140.0</td>\n",
              "    </tr>\n",
              "  </tbody>\n",
              "</table>\n",
              "</div>"
            ],
            "text/plain": [
              "    Celsius  Fahrenheit\n",
              "20        6        42.8\n",
              "21        7        44.6\n",
              "22        8        46.4\n",
              "23        9        48.2\n",
              "24       10        50.0\n",
              "25       20        68.0\n",
              "26       30        86.0\n",
              "27       40       104.0\n",
              "28       50       122.0\n",
              "29       60       140.0"
            ]
          },
          "metadata": {
            "tags": []
          },
          "execution_count": 6
        }
      ]
    },
    {
      "cell_type": "code",
      "metadata": {
        "id": "hMq3-KWOx0e1",
        "colab_type": "code",
        "outputId": "9b7175af-86dd-4a71-cd17-4e194ec04185",
        "colab": {
          "base_uri": "https://localhost:8080/",
          "height": 146
        }
      },
      "source": [
        "Temperature_df.info()"
      ],
      "execution_count": 0,
      "outputs": [
        {
          "output_type": "stream",
          "text": [
            "<class 'pandas.core.frame.DataFrame'>\n",
            "RangeIndex: 30 entries, 0 to 29\n",
            "Data columns (total 2 columns):\n",
            "Celsius       30 non-null int64\n",
            "Fahrenheit    30 non-null float64\n",
            "dtypes: float64(1), int64(1)\n",
            "memory usage: 560.0 bytes\n"
          ],
          "name": "stdout"
        }
      ]
    },
    {
      "cell_type": "code",
      "metadata": {
        "id": "s0E9xPLdx2Ok",
        "colab_type": "code",
        "outputId": "cb7fff1e-666a-41f7-fa8b-47c82d1af58f",
        "colab": {
          "base_uri": "https://localhost:8080/",
          "height": 300
        }
      },
      "source": [
        "Temperature_df.describe()"
      ],
      "execution_count": 0,
      "outputs": [
        {
          "output_type": "execute_result",
          "data": {
            "text/html": [
              "<div>\n",
              "<style scoped>\n",
              "    .dataframe tbody tr th:only-of-type {\n",
              "        vertical-align: middle;\n",
              "    }\n",
              "\n",
              "    .dataframe tbody tr th {\n",
              "        vertical-align: top;\n",
              "    }\n",
              "\n",
              "    .dataframe thead th {\n",
              "        text-align: right;\n",
              "    }\n",
              "</style>\n",
              "<table border=\"1\" class=\"dataframe\">\n",
              "  <thead>\n",
              "    <tr style=\"text-align: right;\">\n",
              "      <th></th>\n",
              "      <th>Celsius</th>\n",
              "      <th>Fahrenheit</th>\n",
              "    </tr>\n",
              "  </thead>\n",
              "  <tbody>\n",
              "    <tr>\n",
              "      <th>count</th>\n",
              "      <td>30.000000</td>\n",
              "      <td>30.000000</td>\n",
              "    </tr>\n",
              "    <tr>\n",
              "      <th>mean</th>\n",
              "      <td>2.000000</td>\n",
              "      <td>35.600000</td>\n",
              "    </tr>\n",
              "    <tr>\n",
              "      <th>std</th>\n",
              "      <td>22.780815</td>\n",
              "      <td>41.005466</td>\n",
              "    </tr>\n",
              "    <tr>\n",
              "      <th>min</th>\n",
              "      <td>-50.000000</td>\n",
              "      <td>-58.000000</td>\n",
              "    </tr>\n",
              "    <tr>\n",
              "      <th>25%</th>\n",
              "      <td>-6.750000</td>\n",
              "      <td>19.850000</td>\n",
              "    </tr>\n",
              "    <tr>\n",
              "      <th>50%</th>\n",
              "      <td>0.500000</td>\n",
              "      <td>32.900000</td>\n",
              "    </tr>\n",
              "    <tr>\n",
              "      <th>75%</th>\n",
              "      <td>7.750000</td>\n",
              "      <td>45.950000</td>\n",
              "    </tr>\n",
              "    <tr>\n",
              "      <th>max</th>\n",
              "      <td>60.000000</td>\n",
              "      <td>140.000000</td>\n",
              "    </tr>\n",
              "  </tbody>\n",
              "</table>\n",
              "</div>"
            ],
            "text/plain": [
              "         Celsius  Fahrenheit\n",
              "count  30.000000   30.000000\n",
              "mean    2.000000   35.600000\n",
              "std    22.780815   41.005466\n",
              "min   -50.000000  -58.000000\n",
              "25%    -6.750000   19.850000\n",
              "50%     0.500000   32.900000\n",
              "75%     7.750000   45.950000\n",
              "max    60.000000  140.000000"
            ]
          },
          "metadata": {
            "tags": []
          },
          "execution_count": 8
        }
      ]
    },
    {
      "cell_type": "markdown",
      "metadata": {
        "id": "LlszUhNNyrl_",
        "colab_type": "text"
      },
      "source": [
        "# VISUALIZE DATASET"
      ]
    },
    {
      "cell_type": "code",
      "metadata": {
        "id": "TYcWopZVyvAs",
        "colab_type": "code",
        "outputId": "0b0fec2d-c880-48b1-b06f-3aaaab922bfd",
        "colab": {
          "base_uri": "https://localhost:8080/",
          "height": 301
        }
      },
      "source": [
        "sns.scatterplot(Temperature_df['Celsius'], Temperature_df['Fahrenheit'])"
      ],
      "execution_count": 0,
      "outputs": [
        {
          "output_type": "execute_result",
          "data": {
            "text/plain": [
              "<matplotlib.axes._subplots.AxesSubplot at 0x7f5b1ecee4e0>"
            ]
          },
          "metadata": {
            "tags": []
          },
          "execution_count": 9
        },
        {
          "output_type": "display_data",
          "data": {
            "image/png": "[encoded data removed]",
            "text/plain": [
              "<Figure size 432x288 with 1 Axes>"
            ]
          },
          "metadata": {
            "tags": []
          }
        }
      ]
    },
    {
      "cell_type": "markdown",
      "metadata": {
        "id": "Y0GmpAjG3GiH",
        "colab_type": "text"
      },
      "source": [
        "# CREATE TESTING AND TRAINING DATASET\n",
        "\n",
        "For sake of simplicity, we will use all of the data for training.\n",
        "\n",
        "*(note: we should not do this, the testing data should never be seen during training; this is only done for familiarizing with Tensorflow 2.0)*"
      ]
    },
    {
      "cell_type": "code",
      "metadata": {
        "id": "0-maV8hb9rYM",
        "colab_type": "code",
        "colab": {}
      },
      "source": [
        "X_train = Temperature_df['Celsius']\n",
        "y_train = Temperature_df['Fahrenheit']\n"
      ],
      "execution_count": 0,
      "outputs": []
    },
    {
      "cell_type": "markdown",
      "metadata": {
        "id": "53qDZFRn3-S1",
        "colab_type": "text"
      },
      "source": [
        "# BUILD AND TRAIN THE MODEL"
      ]
    },
    {
      "cell_type": "code",
      "metadata": {
        "id": "DqIp8uvJ3cGi",
        "colab_type": "code",
        "outputId": "10c907a8-f6b5-491e-ec65-9235a6bea3d8",
        "colab": {
          "base_uri": "https://localhost:8080/",
          "height": 35
        }
      },
      "source": [
        "X_train.shape"
      ],
      "execution_count": 0,
      "outputs": [
        {
          "output_type": "execute_result",
          "data": {
            "text/plain": [
              "(30,)"
            ]
          },
          "metadata": {
            "tags": []
          },
          "execution_count": 11
        }
      ]
    },
    {
      "cell_type": "code",
      "metadata": {
        "id": "d4wfApza3cEc",
        "colab_type": "code",
        "outputId": "848b21bb-40b9-405b-8269-55598888694e",
        "colab": {
          "base_uri": "https://localhost:8080/",
          "height": 35
        }
      },
      "source": [
        "y_train.shape"
      ],
      "execution_count": 0,
      "outputs": [
        {
          "output_type": "execute_result",
          "data": {
            "text/plain": [
              "(30,)"
            ]
          },
          "metadata": {
            "tags": []
          },
          "execution_count": 12
        }
      ]
    },
    {
      "cell_type": "code",
      "metadata": {
        "id": "Yl6fmPJj3cCX",
        "colab_type": "code",
        "colab": {}
      },
      "source": [
        "model = tf.keras.Sequential()\n",
        "model.add(tf.keras.layers.Dense(units=1, input_shape=[1])) #only two parameters to train/tune\n"
      ],
      "execution_count": 0,
      "outputs": []
    },
    {
      "cell_type": "code",
      "metadata": {
        "id": "GUd71odB4v-i",
        "colab_type": "code",
        "outputId": "88a4d98b-c815-4249-9d80-e0c1a7f513ee",
        "colab": {
          "base_uri": "https://localhost:8080/",
          "height": 201
        }
      },
      "source": [
        "model.summary()"
      ],
      "execution_count": 0,
      "outputs": [
        {
          "output_type": "stream",
          "text": [
            "Model: \"sequential\"\n",
            "_________________________________________________________________\n",
            "Layer (type)                 Output Shape              Param #   \n",
            "=================================================================\n",
            "dense (Dense)                (None, 1)                 2         \n",
            "=================================================================\n",
            "Total params: 2\n",
            "Trainable params: 2\n",
            "Non-trainable params: 0\n",
            "_________________________________________________________________\n"
          ],
          "name": "stdout"
        }
      ]
    },
    {
      "cell_type": "code",
      "metadata": {
        "id": "BYmvNpNw5Act",
        "colab_type": "code",
        "colab": {}
      },
      "source": [
        "model.compile(optimizer=tf.keras.optimizers.Adam(0.5), loss='mean_squared_error') #0.5 here is the learning rate; the loss is what we're trying to optimize to"
      ],
      "execution_count": 0,
      "outputs": []
    },
    {
      "cell_type": "code",
      "metadata": {
        "id": "tpia0VBS5Ljw",
        "colab_type": "code",
        "outputId": "93eba0ca-86f7-45a3-b2f6-04eba6dc089a",
        "colab": {
          "base_uri": "https://localhost:8080/",
          "height": 1000
        }
      },
      "source": [
        "epochs_hist = model.fit(X_train, y_train, epochs = 200)"
      ],
      "execution_count": 0,
      "outputs": [
        {
          "output_type": "stream",
          "text": [
            "Epoch 1/200\n",
            "30/30 [==============================] - 1s 27ms/sample - loss: 2807.2424\n",
            "Epoch 2/200\n",
            "30/30 [==============================] - 0s 245us/sample - loss: 1947.6292\n",
            "Epoch 3/200\n",
            "30/30 [==============================] - 0s 221us/sample - loss: 1352.1532\n",
            "Epoch 4/200\n",
            "30/30 [==============================] - 0s 151us/sample - loss: 1011.4805\n",
            "Epoch 5/200\n",
            "30/30 [==============================] - 0s 234us/sample - loss: 893.2841\n",
            "Epoch 6/200\n",
            "30/30 [==============================] - 0s 219us/sample - loss: 933.5174\n",
            "Epoch 7/200\n",
            "30/30 [==============================] - 0s 205us/sample - loss: 1043.1376\n",
            "Epoch 8/200\n",
            "30/30 [==============================] - 0s 185us/sample - loss: 1137.9169\n",
            "Epoch 9/200\n",
            "30/30 [==============================] - 0s 196us/sample - loss: 1169.0588\n",
            "Epoch 10/200\n",
            "30/30 [==============================] - 0s 184us/sample - loss: 1128.3590\n",
            "Epoch 11/200\n",
            "30/30 [==============================] - 0s 123us/sample - loss: 1033.7722\n",
            "Epoch 12/200\n",
            "30/30 [==============================] - 0s 166us/sample - loss: 913.2858\n",
            "Epoch 13/200\n",
            "30/30 [==============================] - 0s 148us/sample - loss: 794.2782\n",
            "Epoch 14/200\n",
            "30/30 [==============================] - 0s 135us/sample - loss: 697.6691\n",
            "Epoch 15/200\n",
            "30/30 [==============================] - 0s 134us/sample - loss: 634.9705\n",
            "Epoch 16/200\n",
            "30/30 [==============================] - 0s 195us/sample - loss: 607.3824\n",
            "Epoch 17/200\n",
            "30/30 [==============================] - 0s 129us/sample - loss: 606.9491\n",
            "Epoch 18/200\n",
            "30/30 [==============================] - 0s 225us/sample - loss: 619.8655\n",
            "Epoch 19/200\n",
            "30/30 [==============================] - 0s 140us/sample - loss: 631.2372\n",
            "Epoch 20/200\n",
            "30/30 [==============================] - 0s 210us/sample - loss: 629.6740\n",
            "Epoch 21/200\n",
            "30/30 [==============================] - 0s 201us/sample - loss: 610.0449\n",
            "Epoch 22/200\n",
            "30/30 [==============================] - 0s 111us/sample - loss: 573.7374\n",
            "Epoch 23/200\n",
            "30/30 [==============================] - 0s 125us/sample - loss: 526.9330\n",
            "Epoch 24/200\n",
            "30/30 [==============================] - 0s 119us/sample - loss: 477.9424\n",
            "Epoch 25/200\n",
            "30/30 [==============================] - 0s 131us/sample - loss: 434.5381\n",
            "Epoch 26/200\n",
            "30/30 [==============================] - 0s 138us/sample - loss: 401.9060\n",
            "Epoch 27/200\n",
            "30/30 [==============================] - 0s 190us/sample - loss: 381.5739\n",
            "Epoch 28/200\n",
            "30/30 [==============================] - 0s 158us/sample - loss: 371.4696\n",
            "Epoch 29/200\n",
            "30/30 [==============================] - 0s 139us/sample - loss: 367.0129\n",
            "Epoch 30/200\n",
            "30/30 [==============================] - 0s 180us/sample - loss: 362.8521\n",
            "Epoch 31/200\n",
            "30/30 [==============================] - 0s 230us/sample - loss: 354.6369\n",
            "Epoch 32/200\n",
            "30/30 [==============================] - 0s 166us/sample - loss: 340.2271\n",
            "Epoch 33/200\n",
            "30/30 [==============================] - 0s 219us/sample - loss: 320.0091\n",
            "Epoch 34/200\n",
            "30/30 [==============================] - 0s 139us/sample - loss: 296.3582\n",
            "Epoch 35/200\n",
            "30/30 [==============================] - 0s 212us/sample - loss: 272.5620\n",
            "Epoch 36/200\n",
            "30/30 [==============================] - 0s 190us/sample - loss: 251.6301\n",
            "Epoch 37/200\n",
            "30/30 [==============================] - 0s 206us/sample - loss: 235.3665\n",
            "Epoch 38/200\n",
            "30/30 [==============================] - 0s 236us/sample - loss: 223.9544\n",
            "Epoch 39/200\n",
            "30/30 [==============================] - 0s 242us/sample - loss: 216.1231\n",
            "Epoch 40/200\n",
            "30/30 [==============================] - 0s 215us/sample - loss: 209.7791\n",
            "Epoch 41/200\n",
            "30/30 [==============================] - 0s 211us/sample - loss: 202.8355\n",
            "Epoch 42/200\n",
            "30/30 [==============================] - 0s 211us/sample - loss: 193.9268\n",
            "Epoch 43/200\n",
            "30/30 [==============================] - 0s 190us/sample - loss: 182.7683\n",
            "Epoch 44/200\n",
            "30/30 [==============================] - 0s 218us/sample - loss: 170.0830\n",
            "Epoch 45/200\n",
            "30/30 [==============================] - 0s 268us/sample - loss: 157.1832\n",
            "Epoch 46/200\n",
            "30/30 [==============================] - 0s 178us/sample - loss: 145.4060\n",
            "Epoch 47/200\n",
            "30/30 [==============================] - 0s 212us/sample - loss: 135.6246\n",
            "Epoch 48/200\n",
            "30/30 [==============================] - 0s 166us/sample - loss: 127.9953\n",
            "Epoch 49/200\n",
            "30/30 [==============================] - 0s 198us/sample - loss: 122.0042\n",
            "Epoch 50/200\n",
            "30/30 [==============================] - 0s 225us/sample - loss: 116.7539\n",
            "Epoch 51/200\n",
            "30/30 [==============================] - 0s 206us/sample - loss: 111.3551\n",
            "Epoch 52/200\n",
            "30/30 [==============================] - 0s 219us/sample - loss: 105.2571\n",
            "Epoch 53/200\n",
            "30/30 [==============================] - 0s 191us/sample - loss: 98.4009\n",
            "Epoch 54/200\n",
            "30/30 [==============================] - 0s 257us/sample - loss: 91.1593\n",
            "Epoch 55/200\n",
            "30/30 [==============================] - 0s 225us/sample - loss: 84.1189\n",
            "Epoch 56/200\n",
            "30/30 [==============================] - 0s 194us/sample - loss: 77.8117\n",
            "Epoch 57/200\n",
            "30/30 [==============================] - 0s 225us/sample - loss: 72.5083\n",
            "Epoch 58/200\n",
            "30/30 [==============================] - 0s 223us/sample - loss: 68.1470\n",
            "Epoch 59/200\n",
            "30/30 [==============================] - 0s 192us/sample - loss: 64.4055\n",
            "Epoch 60/200\n",
            "30/30 [==============================] - 0s 188us/sample - loss: 60.8691\n",
            "Epoch 61/200\n",
            "30/30 [==============================] - 0s 199us/sample - loss: 57.2104\n",
            "Epoch 62/200\n",
            "30/30 [==============================] - 0s 202us/sample - loss: 53.3063\n",
            "Epoch 63/200\n",
            "30/30 [==============================] - 0s 197us/sample - loss: 49.2523\n",
            "Epoch 64/200\n",
            "30/30 [==============================] - 0s 172us/sample - loss: 45.2827\n",
            "Epoch 65/200\n",
            "30/30 [==============================] - 0s 279us/sample - loss: 41.6454\n",
            "Epoch 66/200\n",
            "30/30 [==============================] - 0s 224us/sample - loss: 38.4897\n",
            "Epoch 67/200\n",
            "30/30 [==============================] - 0s 203us/sample - loss: 35.8144\n",
            "Epoch 68/200\n",
            "30/30 [==============================] - 0s 124us/sample - loss: 33.4887\n",
            "Epoch 69/200\n",
            "30/30 [==============================] - 0s 227us/sample - loss: 31.3263\n",
            "Epoch 70/200\n",
            "30/30 [==============================] - 0s 218us/sample - loss: 29.1725\n",
            "Epoch 71/200\n",
            "30/30 [==============================] - 0s 225us/sample - loss: 26.9641\n",
            "Epoch 72/200\n",
            "30/30 [==============================] - 0s 234us/sample - loss: 24.7385\n",
            "Epoch 73/200\n",
            "30/30 [==============================] - 0s 241us/sample - loss: 22.5975\n",
            "Epoch 74/200\n",
            "30/30 [==============================] - 0s 213us/sample - loss: 20.6473\n",
            "Epoch 75/200\n",
            "30/30 [==============================] - 0s 235us/sample - loss: 18.9461\n",
            "Epoch 76/200\n",
            "30/30 [==============================] - 0s 125us/sample - loss: 17.4826\n",
            "Epoch 77/200\n",
            "30/30 [==============================] - 0s 220us/sample - loss: 16.1894\n",
            "Epoch 78/200\n",
            "30/30 [==============================] - 0s 201us/sample - loss: 14.9807\n",
            "Epoch 79/200\n",
            "30/30 [==============================] - 0s 260us/sample - loss: 13.7925\n",
            "Epoch 80/200\n",
            "30/30 [==============================] - 0s 360us/sample - loss: 12.6065\n",
            "Epoch 81/200\n",
            "30/30 [==============================] - 0s 412us/sample - loss: 11.4483\n",
            "Epoch 82/200\n",
            "30/30 [==============================] - 0s 152us/sample - loss: 10.3655\n",
            "Epoch 83/200\n",
            "30/30 [==============================] - 0s 246us/sample - loss: 9.3989\n",
            "Epoch 84/200\n",
            "30/30 [==============================] - 0s 214us/sample - loss: 8.5613\n",
            "Epoch 85/200\n",
            "30/30 [==============================] - 0s 220us/sample - loss: 7.8344\n",
            "Epoch 86/200\n",
            "30/30 [==============================] - 0s 239us/sample - loss: 7.1800\n",
            "Epoch 87/200\n",
            "30/30 [==============================] - 0s 223us/sample - loss: 6.5607\n",
            "Epoch 88/200\n",
            "30/30 [==============================] - 0s 246us/sample - loss: 5.9559\n",
            "Epoch 89/200\n",
            "30/30 [==============================] - 0s 252us/sample - loss: 5.3673\n",
            "Epoch 90/200\n",
            "30/30 [==============================] - 0s 200us/sample - loss: 4.8127\n",
            "Epoch 91/200\n",
            "30/30 [==============================] - 0s 240us/sample - loss: 4.3126\n",
            "Epoch 92/200\n",
            "30/30 [==============================] - 0s 252us/sample - loss: 3.8776\n",
            "Epoch 93/200\n",
            "30/30 [==============================] - 0s 243us/sample - loss: 3.5035\n",
            "Epoch 94/200\n",
            "30/30 [==============================] - 0s 240us/sample - loss: 3.1741\n",
            "Epoch 95/200\n",
            "30/30 [==============================] - 0s 128us/sample - loss: 2.8706\n",
            "Epoch 96/200\n",
            "30/30 [==============================] - 0s 223us/sample - loss: 2.5800\n",
            "Epoch 97/200\n",
            "30/30 [==============================] - 0s 158us/sample - loss: 2.3001\n",
            "Epoch 98/200\n",
            "30/30 [==============================] - 0s 174us/sample - loss: 2.0372\n",
            "Epoch 99/200\n",
            "30/30 [==============================] - 0s 119us/sample - loss: 1.8005\n",
            "Epoch 100/200\n",
            "30/30 [==============================] - 0s 118us/sample - loss: 1.5956\n",
            "Epoch 101/200\n",
            "30/30 [==============================] - 0s 131us/sample - loss: 1.4215\n",
            "Epoch 102/200\n",
            "30/30 [==============================] - 0s 175us/sample - loss: 1.2708\n",
            "Epoch 103/200\n",
            "30/30 [==============================] - 0s 136us/sample - loss: 1.1344\n",
            "Epoch 104/200\n",
            "30/30 [==============================] - 0s 107us/sample - loss: 1.0058\n",
            "Epoch 105/200\n",
            "30/30 [==============================] - 0s 243us/sample - loss: 0.8830\n",
            "Epoch 106/200\n",
            "30/30 [==============================] - 0s 383us/sample - loss: 0.7688\n",
            "Epoch 107/200\n",
            "30/30 [==============================] - 0s 165us/sample - loss: 0.6672\n",
            "Epoch 108/200\n",
            "30/30 [==============================] - 0s 131us/sample - loss: 0.5808\n",
            "Epoch 109/200\n",
            "30/30 [==============================] - 0s 159us/sample - loss: 0.5088\n",
            "Epoch 110/200\n",
            "30/30 [==============================] - 0s 241us/sample - loss: 0.4476\n",
            "Epoch 111/200\n",
            "30/30 [==============================] - 0s 216us/sample - loss: 0.3929\n",
            "Epoch 112/200\n",
            "30/30 [==============================] - 0s 196us/sample - loss: 0.3417\n",
            "Epoch 113/200\n",
            "30/30 [==============================] - 0s 226us/sample - loss: 0.2931\n",
            "Epoch 114/200\n",
            "30/30 [==============================] - 0s 318us/sample - loss: 0.2487\n",
            "Epoch 115/200\n",
            "30/30 [==============================] - 0s 416us/sample - loss: 0.2101\n",
            "Epoch 116/200\n",
            "30/30 [==============================] - 0s 161us/sample - loss: 0.1784\n",
            "Epoch 117/200\n",
            "30/30 [==============================] - 0s 117us/sample - loss: 0.1529\n",
            "Epoch 118/200\n",
            "30/30 [==============================] - 0s 136us/sample - loss: 0.1318\n",
            "Epoch 119/200\n",
            "30/30 [==============================] - 0s 140us/sample - loss: 0.1129\n",
            "Epoch 120/200\n",
            "30/30 [==============================] - 0s 154us/sample - loss: 0.0952\n",
            "Epoch 121/200\n",
            "30/30 [==============================] - 0s 146us/sample - loss: 0.0785\n",
            "Epoch 122/200\n",
            "30/30 [==============================] - 0s 148us/sample - loss: 0.0636\n",
            "Epoch 123/200\n",
            "30/30 [==============================] - 0s 132us/sample - loss: 0.0513\n",
            "Epoch 124/200\n",
            "30/30 [==============================] - 0s 154us/sample - loss: 0.0419\n",
            "Epoch 125/200\n",
            "30/30 [==============================] - 0s 154us/sample - loss: 0.0348\n",
            "Epoch 126/200\n",
            "30/30 [==============================] - 0s 141us/sample - loss: 0.0292\n",
            "Epoch 127/200\n",
            "30/30 [==============================] - 0s 255us/sample - loss: 0.0240\n",
            "Epoch 128/200\n",
            "30/30 [==============================] - 0s 244us/sample - loss: 0.0189\n",
            "Epoch 129/200\n",
            "30/30 [==============================] - 0s 220us/sample - loss: 0.0142\n",
            "Epoch 130/200\n",
            "30/30 [==============================] - 0s 234us/sample - loss: 0.0103\n",
            "Epoch 131/200\n",
            "30/30 [==============================] - 0s 332us/sample - loss: 0.0075\n",
            "Epoch 132/200\n",
            "30/30 [==============================] - 0s 300us/sample - loss: 0.0057\n",
            "Epoch 133/200\n",
            "30/30 [==============================] - 0s 212us/sample - loss: 0.0046\n",
            "Epoch 134/200\n",
            "30/30 [==============================] - 0s 224us/sample - loss: 0.0037\n",
            "Epoch 135/200\n",
            "30/30 [==============================] - 0s 346us/sample - loss: 0.0028\n",
            "Epoch 136/200\n",
            "30/30 [==============================] - 0s 413us/sample - loss: 0.0018\n",
            "Epoch 137/200\n",
            "30/30 [==============================] - 0s 246us/sample - loss: 8.9917e-04\n",
            "Epoch 138/200\n",
            "30/30 [==============================] - 0s 249us/sample - loss: 3.1851e-04\n",
            "Epoch 139/200\n",
            "30/30 [==============================] - 0s 237us/sample - loss: 1.3794e-04\n",
            "Epoch 140/200\n",
            "30/30 [==============================] - 0s 229us/sample - loss: 2.5168e-04\n",
            "Epoch 141/200\n",
            "30/30 [==============================] - 0s 248us/sample - loss: 4.5265e-04\n",
            "Epoch 142/200\n",
            "30/30 [==============================] - 0s 249us/sample - loss: 5.6618e-04\n",
            "Epoch 143/200\n",
            "30/30 [==============================] - 0s 206us/sample - loss: 5.4202e-04\n",
            "Epoch 144/200\n",
            "30/30 [==============================] - 0s 177us/sample - loss: 4.5410e-04\n",
            "Epoch 145/200\n",
            "30/30 [==============================] - 0s 148us/sample - loss: 4.2250e-04\n",
            "Epoch 146/200\n",
            "30/30 [==============================] - 0s 167us/sample - loss: 5.2151e-04\n",
            "Epoch 147/200\n",
            "30/30 [==============================] - 0s 183us/sample - loss: 7.3441e-04\n",
            "Epoch 148/200\n",
            "30/30 [==============================] - 0s 196us/sample - loss: 9.7553e-04\n",
            "Epoch 149/200\n",
            "30/30 [==============================] - 0s 157us/sample - loss: 0.0012\n",
            "Epoch 150/200\n",
            "30/30 [==============================] - 0s 396us/sample - loss: 0.0012\n",
            "Epoch 151/200\n",
            "30/30 [==============================] - 0s 132us/sample - loss: 0.0012\n",
            "Epoch 152/200\n",
            "30/30 [==============================] - 0s 157us/sample - loss: 0.0012\n",
            "Epoch 153/200\n",
            "30/30 [==============================] - 0s 218us/sample - loss: 0.0013\n",
            "Epoch 154/200\n",
            "30/30 [==============================] - 0s 194us/sample - loss: 0.0013\n",
            "Epoch 155/200\n",
            "30/30 [==============================] - 0s 207us/sample - loss: 0.0014\n",
            "Epoch 156/200\n",
            "30/30 [==============================] - 0s 190us/sample - loss: 0.0015\n",
            "Epoch 157/200\n",
            "30/30 [==============================] - 0s 256us/sample - loss: 0.0015\n",
            "Epoch 158/200\n",
            "30/30 [==============================] - 0s 278us/sample - loss: 0.0015\n",
            "Epoch 159/200\n",
            "30/30 [==============================] - 0s 294us/sample - loss: 0.0014\n",
            "Epoch 160/200\n",
            "30/30 [==============================] - 0s 253us/sample - loss: 0.0013\n",
            "Epoch 161/200\n",
            "30/30 [==============================] - 0s 204us/sample - loss: 0.0013\n",
            "Epoch 162/200\n",
            "30/30 [==============================] - 0s 286us/sample - loss: 0.0013\n",
            "Epoch 163/200\n",
            "30/30 [==============================] - 0s 245us/sample - loss: 0.0013\n",
            "Epoch 164/200\n",
            "30/30 [==============================] - 0s 247us/sample - loss: 0.0012\n",
            "Epoch 165/200\n",
            "30/30 [==============================] - 0s 240us/sample - loss: 0.0012\n",
            "Epoch 166/200\n",
            "30/30 [==============================] - 0s 201us/sample - loss: 0.0011\n",
            "Epoch 167/200\n",
            "30/30 [==============================] - 0s 250us/sample - loss: 0.0010\n",
            "Epoch 168/200\n",
            "30/30 [==============================] - 0s 184us/sample - loss: 9.5447e-04\n",
            "Epoch 169/200\n",
            "30/30 [==============================] - 0s 209us/sample - loss: 9.0628e-04\n",
            "Epoch 170/200\n",
            "30/30 [==============================] - 0s 184us/sample - loss: 8.5496e-04\n",
            "Epoch 171/200\n",
            "30/30 [==============================] - 0s 264us/sample - loss: 7.9423e-04\n",
            "Epoch 172/200\n",
            "30/30 [==============================] - 0s 217us/sample - loss: 7.2666e-04\n",
            "Epoch 173/200\n",
            "30/30 [==============================] - 0s 195us/sample - loss: 6.5971e-04\n",
            "Epoch 174/200\n",
            "30/30 [==============================] - 0s 204us/sample - loss: 6.0067e-04\n",
            "Epoch 175/200\n",
            "30/30 [==============================] - 0s 262us/sample - loss: 5.5138e-04\n",
            "Epoch 176/200\n",
            "30/30 [==============================] - 0s 458us/sample - loss: 5.0824e-04\n",
            "Epoch 177/200\n",
            "30/30 [==============================] - 0s 203us/sample - loss: 4.6552e-04\n",
            "Epoch 178/200\n",
            "30/30 [==============================] - 0s 198us/sample - loss: 4.2054e-04\n",
            "Epoch 179/200\n",
            "30/30 [==============================] - 0s 253us/sample - loss: 3.7433e-04\n",
            "Epoch 180/200\n",
            "30/30 [==============================] - 0s 230us/sample - loss: 3.3095e-04\n",
            "Epoch 181/200\n",
            "30/30 [==============================] - 0s 224us/sample - loss: 2.9352e-04\n",
            "Epoch 182/200\n",
            "30/30 [==============================] - 0s 161us/sample - loss: 2.6241e-04\n",
            "Epoch 183/200\n",
            "30/30 [==============================] - 0s 216us/sample - loss: 2.3541e-04\n",
            "Epoch 184/200\n",
            "30/30 [==============================] - 0s 253us/sample - loss: 2.0963e-04\n",
            "Epoch 185/200\n",
            "30/30 [==============================] - 0s 254us/sample - loss: 1.8364e-04\n",
            "Epoch 186/200\n",
            "30/30 [==============================] - 0s 234us/sample - loss: 1.5835e-04\n",
            "Epoch 187/200\n",
            "30/30 [==============================] - 0s 200us/sample - loss: 1.3557e-04\n",
            "Epoch 188/200\n",
            "30/30 [==============================] - 0s 188us/sample - loss: 1.1665e-04\n",
            "Epoch 189/200\n",
            "30/30 [==============================] - 0s 183us/sample - loss: 1.0134e-04\n",
            "Epoch 190/200\n",
            "30/30 [==============================] - 0s 179us/sample - loss: 8.8308e-05\n",
            "Epoch 191/200\n",
            "30/30 [==============================] - 0s 225us/sample - loss: 7.6026e-05\n",
            "Epoch 192/200\n",
            "30/30 [==============================] - 0s 179us/sample - loss: 6.3976e-05\n",
            "Epoch 193/200\n",
            "30/30 [==============================] - 0s 202us/sample - loss: 5.2703e-05\n",
            "Epoch 194/200\n",
            "30/30 [==============================] - 0s 196us/sample - loss: 4.3086e-05\n",
            "Epoch 195/200\n",
            "30/30 [==============================] - 0s 192us/sample - loss: 3.5564e-05\n",
            "Epoch 196/200\n",
            "30/30 [==============================] - 0s 208us/sample - loss: 2.9836e-05\n",
            "Epoch 197/200\n",
            "30/30 [==============================] - 0s 223us/sample - loss: 2.5024e-05\n",
            "Epoch 198/200\n",
            "30/30 [==============================] - 0s 210us/sample - loss: 2.0461e-05\n",
            "Epoch 199/200\n",
            "30/30 [==============================] - 0s 209us/sample - loss: 1.6045e-05\n",
            "Epoch 200/200\n",
            "30/30 [==============================] - 0s 211us/sample - loss: 1.2089e-05\n"
          ],
          "name": "stdout"
        }
      ]
    },
    {
      "cell_type": "markdown",
      "metadata": {
        "id": "-wRQqOeB5Zh5",
        "colab_type": "text"
      },
      "source": [
        "# EVALUATING THE MODEL "
      ]
    },
    {
      "cell_type": "code",
      "metadata": {
        "id": "dfUb63035TJL",
        "colab_type": "code",
        "outputId": "d2f29be1-6603-4539-8444-a9a9b6e91fda",
        "colab": {
          "base_uri": "https://localhost:8080/",
          "height": 35
        }
      },
      "source": [
        "epochs_hist.history.keys()"
      ],
      "execution_count": 0,
      "outputs": [
        {
          "output_type": "execute_result",
          "data": {
            "text/plain": [
              "dict_keys(['loss'])"
            ]
          },
          "metadata": {
            "tags": []
          },
          "execution_count": 17
        }
      ]
    },
    {
      "cell_type": "code",
      "metadata": {
        "id": "eXiDop_l5erJ",
        "colab_type": "code",
        "outputId": "1c75ec5a-0280-4b26-c3cd-09fa7e68bfa4",
        "colab": {
          "base_uri": "https://localhost:8080/",
          "height": 313
        }
      },
      "source": [
        "plt.plot(epochs_hist.history['loss'])\n",
        "plt.title('Model Loss Progress During Training')\n",
        "plt.xlabel('Epoch')\n",
        "plt.ylabel('Training Loss')\n",
        "plt.legend(['Training Loss'])"
      ],
      "execution_count": 0,
      "outputs": [
        {
          "output_type": "execute_result",
          "data": {
            "text/plain": [
              "<matplotlib.legend.Legend at 0x7f5b10352978>"
            ]
          },
          "metadata": {
            "tags": []
          },
          "execution_count": 18
        },
        {
          "output_type": "display_data",
          "data": {
            "image/png": "[encoded data removed]",
            "text/plain": [
              "<Figure size 432x288 with 1 Axes>"
            ]
          },
          "metadata": {
            "tags": []
          }
        }
      ]
    },
    {
      "cell_type": "code",
      "metadata": {
        "id": "yFYpuUJWBn6L",
        "colab_type": "code",
        "outputId": "ce78b87a-c79f-47d4-efc5-9adb2dba8dea",
        "colab": {
          "base_uri": "https://localhost:8080/",
          "height": 35
        }
      },
      "source": [
        "model.get_weights()"
      ],
      "execution_count": 0,
      "outputs": [
        {
          "output_type": "execute_result",
          "data": {
            "text/plain": [
              "[array([[1.7999835]], dtype=float32), array([32.003017], dtype=float32)]"
            ]
          },
          "metadata": {
            "tags": []
          },
          "execution_count": 19
        }
      ]
    },
    {
      "cell_type": "code",
      "metadata": {
        "id": "isfjfT735fjD",
        "colab_type": "code",
        "outputId": "23ff76c8-ccb7-48e5-869a-9af0d7fb4353",
        "colab": {
          "base_uri": "https://localhost:8080/",
          "height": 35
        }
      },
      "source": [
        "# Use the trained model to perform predictions\n",
        "\n",
        "Temp_C = 0\n",
        "Temp_F = model.predict([Temp_C])\n",
        "print('Temperature in degF Using Trained ANN =', Temp_F)\n"
      ],
      "execution_count": 0,
      "outputs": [
        {
          "output_type": "stream",
          "text": [
            "Temperature in degF Using Trained ANN = [[32.003017]]\n"
          ],
          "name": "stdout"
        }
      ]
    },
    {
      "cell_type": "code",
      "metadata": {
        "id": "mfP_j7LaDjNR",
        "colab_type": "code",
        "outputId": "edc0cde8-cec1-44ca-a497-41b4a36c2d91",
        "colab": {
          "base_uri": "https://localhost:8080/",
          "height": 35
        }
      },
      "source": [
        "# Let's confirm this Using the equation: \n",
        "Temp_F = 9/5 * Temp_C + 32\n",
        "print('Temperature in degF Using Equation =', Temp_F)\n"
      ],
      "execution_count": 0,
      "outputs": [
        {
          "output_type": "stream",
          "text": [
            "Temperature in degF Using Equation = 32.0\n"
          ],
          "name": "stdout"
        }
      ]
    },
    {
      "cell_type": "markdown",
      "metadata": {
        "id": "27OgYEJu9EFV",
        "colab_type": "text"
      },
      "source": [
        "# MY FIRST NEURAL NETWORK MODEL USING TENSORFLOW 2.0 IN GOOGLE COLAB! "
      ]
    },
    {
      "cell_type": "code",
      "metadata": {
        "id": "RwVZg2iYFldq",
        "colab_type": "code",
        "colab": {}
      },
      "source": [
        ""
      ],
      "execution_count": 0,
      "outputs": []
    }
  ]
}